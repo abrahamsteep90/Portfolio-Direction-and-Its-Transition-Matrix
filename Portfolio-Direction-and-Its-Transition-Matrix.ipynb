{
 "cells": [
  {
   "cell_type": "markdown",
   "metadata": {},
   "source": [
    "# Portfolio Direction and Its Transition Matrix"
   ]
  },
  {
   "cell_type": "markdown",
   "metadata": {},
   "source": [
    "We import necessary libaries first"
   ]
  },
  {
   "cell_type": "code",
   "execution_count": 1,
   "metadata": {},
   "outputs": [],
   "source": [
    "#pip install yfinance\n",
    "import yfinance as yf\n",
    "yf.pdr_override()\n",
    "import pandas as pd\n",
    "import numpy as np\n",
    "from scipy.stats import kurtosis, skew\n",
    "from sklearn.model_selection import train_test_split"
   ]
  },
  {
   "cell_type": "markdown",
   "metadata": {},
   "source": [
    "I will be using Apple and Tesla stocks "
   ]
  },
  {
   "cell_type": "code",
   "execution_count": 2,
   "metadata": {},
   "outputs": [
    {
     "name": "stdout",
     "output_type": "stream",
     "text": [
      "[*********************100%***********************]  1 of 1 completed\n",
      "[*********************100%***********************]  1 of 1 completed\n"
     ]
    }
   ],
   "source": [
    "Apple= yf.download(\"AAPL\", start=\"2021-01-01\", end=\"2022-05-22\")\n",
    "Tesla= yf.download(\"TSLA\", start=\"2021-01-01\", end=\"2022-05-22\")"
   ]
  },
  {
   "cell_type": "markdown",
   "metadata": {},
   "source": [
    "Lets get their log return."
   ]
  },
  {
   "cell_type": "code",
   "execution_count": 3,
   "metadata": {},
   "outputs": [],
   "source": [
    "Apple[\"Log_Return\"]=np.log(Apple[\"Close\"]/Apple[\"Close\"].shift(1))\n",
    "Apple = pd.DataFrame(Apple[\"Log_Return\"])\n",
    "Tesla[\"Log_Return\"]=np.log(Tesla[\"Close\"]/Tesla[\"Close\"].shift(1))\n",
    "Tesla = pd.DataFrame(Tesla[\"Log_Return\"])"
   ]
  },
  {
   "cell_type": "markdown",
   "metadata": {},
   "source": [
    "Let's compute the mean, standard deviation, skewness, and excess kurtosis of their log return. "
   ]
  },
  {
   "cell_type": "markdown",
   "metadata": {},
   "source": [
    "Apple"
   ]
  },
  {
   "cell_type": "code",
   "execution_count": 4,
   "metadata": {
    "scrolled": true
   },
   "outputs": [
    {
     "name": "stdout",
     "output_type": "stream",
     "text": [
      "Mean of Log Return of Apple stocks: 0.00017612797325155293\n",
      "Standard Deviation of Log Return of Apple stocks: 0.01773443243104994\n",
      "Excess kurtosis of Log Return of Apple stocks(should be 0): 0.7503583441008375\n",
      "Skewness of Log Return of Apple stocks (should be 0): -0.11193853435352391\n"
     ]
    }
   ],
   "source": [
    "print( 'Mean of Log Return of Apple stocks: {}'.format(np.mean(Apple[\"Log_Return\"].dropna())))\n",
    "print( 'Standard Deviation of Log Return of Apple stocks: {}'.format(np.std(Apple[\"Log_Return\"].dropna())))\n",
    "print( 'Excess kurtosis of Log Return of Apple stocks(should be 0): {}'.format(kurtosis(Apple[\"Log_Return\"].dropna())))\n",
    "print( 'Skewness of Log Return of Apple stocks (should be 0): {}'.format( skew(Apple[\"Log_Return\"].dropna())))"
   ]
  },
  {
   "cell_type": "markdown",
   "metadata": {},
   "source": [
    "Tesla"
   ]
  },
  {
   "cell_type": "code",
   "execution_count": 5,
   "metadata": {
    "scrolled": true
   },
   "outputs": [
    {
     "name": "stdout",
     "output_type": "stream",
     "text": [
      "Mean of Log Return of Tesla stocks: -0.0002718329605446314\n",
      "Standard Deviation of Log Return of Tesla stocks: 0.03765649395055383\n",
      "excess kurtosis of Log Return of Tesla stocks(should be 0): 2.2011291480713284\n",
      "skewness of Log Return of Tesla stocks (should be 0): 0.09333273123825693\n"
     ]
    }
   ],
   "source": [
    "print( 'Mean of Log Return of Tesla stocks: {}'.format(np.mean(Tesla[\"Log_Return\"].dropna())))\n",
    "print( 'Standard Deviation of Log Return of Tesla stocks: {}'.format(np.std(Tesla[\"Log_Return\"].dropna())))\n",
    "print( 'excess kurtosis of Log Return of Tesla stocks(should be 0): {}'.format(kurtosis(Tesla[\"Log_Return\"].dropna())))\n",
    "print( 'skewness of Log Return of Tesla stocks (should be 0): {}'.format( skew(Tesla[\"Log_Return\"].dropna()) ))"
   ]
  },
  {
   "cell_type": "markdown",
   "metadata": {},
   "source": [
    "\n",
    "# Let's compute the covariance and the correlation. "
   ]
  },
  {
   "cell_type": "code",
   "execution_count": 6,
   "metadata": {},
   "outputs": [
    {
     "name": "stdout",
     "output_type": "stream",
     "text": [
      "Covariance of Log Return of Apple and Tesla Stocks: 0.0003780996508438968\n"
     ]
    }
   ],
   "source": [
    "print( 'Covariance of Log Return of Apple and Tesla Stocks: {}'.format( Apple[\"Log_Return\"].cov(Tesla[\"Log_Return\"])))"
   ]
  },
  {
   "cell_type": "code",
   "execution_count": 7,
   "metadata": {
    "scrolled": true
   },
   "outputs": [
    {
     "name": "stdout",
     "output_type": "stream",
     "text": [
      "Correlation between Log Return of Apple and Tesla Stocks: 0.5645459954143168\n"
     ]
    }
   ],
   "source": [
    "print( 'Correlation between Log Return of Apple and Tesla Stocks: {}'.format( Apple[\"Log_Return\"].corr(Tesla[\"Log_Return\"])))"
   ]
  },
  {
   "cell_type": "markdown",
   "metadata": {},
   "source": [
    "Both correlation and covariance measure the relationship and the dependency between two variables.Here, our two variables are Apple's  and Tesla's stocks. Covariance is used to find how much Apple and Tesla stocks vary together, whereas correlation is used to find when a change in one of our variable, say Apple can result in a change in our another variable which is Tesla.\n",
    "\n",
    "As the formula for Correlation $$Corr=\\frac{Cov\\left ( Apple, Tesla \\right )}{\\sigma _{Apple}^{2}*\\sigma _{Tesla}^{2}}$$\n",
    "\n",
    "We will be able to convert between them by using abovementioned formula"
   ]
  },
  {
   "cell_type": "markdown",
   "metadata": {},
   "source": [
    "# Let's build our own transition"
   ]
  },
  {
   "cell_type": "markdown",
   "metadata": {},
   "source": [
    "Let's categorize each day in a year price history as belonging to one of four categories:\n",
    "i.Both stocks up\n",
    "ii.Stock 1 up, stock 2 down\n",
    "iii.Stock 1 down, stock 2 up\n",
    "iv.Both stocks down"
   ]
  },
  {
   "cell_type": "markdown",
   "metadata": {},
   "source": [
    "Let's concatenate both as one single datasets"
   ]
  },
  {
   "cell_type": "code",
   "execution_count": 9,
   "metadata": {},
   "outputs": [],
   "source": [
    "Apple.rename(columns = {'Log_Return':'Apple_Log_Return'}, inplace =True)\n",
    "Tesla.rename(columns = {'Log_Return':'Tesla_Log_Return'}, inplace = True)\n",
    "frames=[Apple, Tesla]\n",
    "Log_Returns_Cat=pd.concat(frames,  axis=1).dropna()"
   ]
  },
  {
   "cell_type": "markdown",
   "metadata": {},
   "source": [
    "To categorize as it is mentioned above, we need to get the difference between consecutive stocks for each data and see if it goes up or down.If the difference between todays and tomorrows stock is negative  then there is a down otherwise it is up(there is no 0 case)"
   ]
  },
  {
   "cell_type": "code",
   "execution_count": 10,
   "metadata": {},
   "outputs": [
    {
     "data": {
      "text/html": [
       "<div>\n",
       "<style scoped>\n",
       "    .dataframe tbody tr th:only-of-type {\n",
       "        vertical-align: middle;\n",
       "    }\n",
       "\n",
       "    .dataframe tbody tr th {\n",
       "        vertical-align: top;\n",
       "    }\n",
       "\n",
       "    .dataframe thead th {\n",
       "        text-align: right;\n",
       "    }\n",
       "</style>\n",
       "<table border=\"1\" class=\"dataframe\">\n",
       "  <thead>\n",
       "    <tr style=\"text-align: right;\">\n",
       "      <th></th>\n",
       "      <th>Apple_Log_Return</th>\n",
       "      <th>Tesla_Log_Return</th>\n",
       "    </tr>\n",
       "    <tr>\n",
       "      <th>Date</th>\n",
       "      <th></th>\n",
       "      <th></th>\n",
       "    </tr>\n",
       "  </thead>\n",
       "  <tbody>\n",
       "    <tr>\n",
       "      <th>2021-01-06</th>\n",
       "      <td>-0.046529</td>\n",
       "      <td>0.020704</td>\n",
       "    </tr>\n",
       "    <tr>\n",
       "      <th>2021-01-07</th>\n",
       "      <td>0.067795</td>\n",
       "      <td>0.048454</td>\n",
       "    </tr>\n",
       "    <tr>\n",
       "      <th>2021-01-08</th>\n",
       "      <td>-0.024960</td>\n",
       "      <td>-0.000967</td>\n",
       "    </tr>\n",
       "    <tr>\n",
       "      <th>2021-01-11</th>\n",
       "      <td>-0.032118</td>\n",
       "      <td>-0.156924</td>\n",
       "    </tr>\n",
       "    <tr>\n",
       "      <th>2021-01-12</th>\n",
       "      <td>0.022127</td>\n",
       "      <td>0.127517</td>\n",
       "    </tr>\n",
       "    <tr>\n",
       "      <th>...</th>\n",
       "      <td>...</td>\n",
       "      <td>...</td>\n",
       "    </tr>\n",
       "    <tr>\n",
       "      <th>2022-05-16</th>\n",
       "      <td>-0.042147</td>\n",
       "      <td>-0.116113</td>\n",
       "    </tr>\n",
       "    <tr>\n",
       "      <th>2022-05-17</th>\n",
       "      <td>0.035835</td>\n",
       "      <td>0.110688</td>\n",
       "    </tr>\n",
       "    <tr>\n",
       "      <th>2022-05-18</th>\n",
       "      <td>-0.083178</td>\n",
       "      <td>-0.120570</td>\n",
       "    </tr>\n",
       "    <tr>\n",
       "      <th>2022-05-19</th>\n",
       "      <td>0.033123</td>\n",
       "      <td>0.069888</td>\n",
       "    </tr>\n",
       "    <tr>\n",
       "      <th>2022-05-20</th>\n",
       "      <td>0.026696</td>\n",
       "      <td>-0.065767</td>\n",
       "    </tr>\n",
       "  </tbody>\n",
       "</table>\n",
       "<p>347 rows × 2 columns</p>\n",
       "</div>"
      ],
      "text/plain": [
       "            Apple_Log_Return  Tesla_Log_Return\n",
       "Date                                          \n",
       "2021-01-06         -0.046529          0.020704\n",
       "2021-01-07          0.067795          0.048454\n",
       "2021-01-08         -0.024960         -0.000967\n",
       "2021-01-11         -0.032118         -0.156924\n",
       "2021-01-12          0.022127          0.127517\n",
       "...                      ...               ...\n",
       "2022-05-16         -0.042147         -0.116113\n",
       "2022-05-17          0.035835          0.110688\n",
       "2022-05-18         -0.083178         -0.120570\n",
       "2022-05-19          0.033123          0.069888\n",
       "2022-05-20          0.026696         -0.065767\n",
       "\n",
       "[347 rows x 2 columns]"
      ]
     },
     "execution_count": 10,
     "metadata": {},
     "output_type": "execute_result"
    }
   ],
   "source": [
    "Diff_Return = Log_Returns_Cat.diff()\n",
    "Diff_Return.dropna()"
   ]
  },
  {
   "cell_type": "markdown",
   "metadata": {},
   "source": [
    "Now, we can label each stock as up and and down depending on difference between consecutive days."
   ]
  },
  {
   "cell_type": "code",
   "execution_count": 11,
   "metadata": {
    "scrolled": false
   },
   "outputs": [
    {
     "data": {
      "text/html": [
       "<div>\n",
       "<style scoped>\n",
       "    .dataframe tbody tr th:only-of-type {\n",
       "        vertical-align: middle;\n",
       "    }\n",
       "\n",
       "    .dataframe tbody tr th {\n",
       "        vertical-align: top;\n",
       "    }\n",
       "\n",
       "    .dataframe thead th {\n",
       "        text-align: right;\n",
       "    }\n",
       "</style>\n",
       "<table border=\"1\" class=\"dataframe\">\n",
       "  <thead>\n",
       "    <tr style=\"text-align: right;\">\n",
       "      <th></th>\n",
       "      <th>Apple_Log_Return</th>\n",
       "      <th>Tesla_Log_Return</th>\n",
       "      <th>Categories</th>\n",
       "      <th>Categories_Letter</th>\n",
       "    </tr>\n",
       "    <tr>\n",
       "      <th>Date</th>\n",
       "      <th></th>\n",
       "      <th></th>\n",
       "      <th></th>\n",
       "      <th></th>\n",
       "    </tr>\n",
       "  </thead>\n",
       "  <tbody>\n",
       "    <tr>\n",
       "      <th>2021-01-07</th>\n",
       "      <td>0.033554</td>\n",
       "      <td>0.076448</td>\n",
       "      <td>Both stocks up</td>\n",
       "      <td>uu</td>\n",
       "    </tr>\n",
       "    <tr>\n",
       "      <th>2021-01-08</th>\n",
       "      <td>0.008594</td>\n",
       "      <td>0.075481</td>\n",
       "      <td>Both stocks down</td>\n",
       "      <td>dd</td>\n",
       "    </tr>\n",
       "    <tr>\n",
       "      <th>2021-01-11</th>\n",
       "      <td>-0.023523</td>\n",
       "      <td>-0.081442</td>\n",
       "      <td>Both stocks down</td>\n",
       "      <td>dd</td>\n",
       "    </tr>\n",
       "    <tr>\n",
       "      <th>2021-01-12</th>\n",
       "      <td>-0.001396</td>\n",
       "      <td>0.046075</td>\n",
       "      <td>Both stocks up</td>\n",
       "      <td>uu</td>\n",
       "    </tr>\n",
       "    <tr>\n",
       "      <th>2021-01-13</th>\n",
       "      <td>0.016096</td>\n",
       "      <td>0.005834</td>\n",
       "      <td>Stock #1 up, stock #2 down</td>\n",
       "      <td>ud</td>\n",
       "    </tr>\n",
       "    <tr>\n",
       "      <th>...</th>\n",
       "      <td>...</td>\n",
       "      <td>...</td>\n",
       "      <td>...</td>\n",
       "      <td>...</td>\n",
       "    </tr>\n",
       "    <tr>\n",
       "      <th>2022-05-16</th>\n",
       "      <td>-0.010730</td>\n",
       "      <td>-0.060556</td>\n",
       "      <td>Both stocks down</td>\n",
       "      <td>dd</td>\n",
       "    </tr>\n",
       "    <tr>\n",
       "      <th>2022-05-17</th>\n",
       "      <td>0.025105</td>\n",
       "      <td>0.050132</td>\n",
       "      <td>Both stocks up</td>\n",
       "      <td>uu</td>\n",
       "    </tr>\n",
       "    <tr>\n",
       "      <th>2022-05-18</th>\n",
       "      <td>-0.058073</td>\n",
       "      <td>-0.070437</td>\n",
       "      <td>Both stocks down</td>\n",
       "      <td>dd</td>\n",
       "    </tr>\n",
       "    <tr>\n",
       "      <th>2022-05-19</th>\n",
       "      <td>-0.024950</td>\n",
       "      <td>-0.000550</td>\n",
       "      <td>Both stocks up</td>\n",
       "      <td>uu</td>\n",
       "    </tr>\n",
       "    <tr>\n",
       "      <th>2022-05-20</th>\n",
       "      <td>0.001746</td>\n",
       "      <td>-0.066316</td>\n",
       "      <td>Stock #1 up, stock #2 down</td>\n",
       "      <td>ud</td>\n",
       "    </tr>\n",
       "  </tbody>\n",
       "</table>\n",
       "<p>346 rows × 4 columns</p>\n",
       "</div>"
      ],
      "text/plain": [
       "            Apple_Log_Return  Tesla_Log_Return                  Categories  \\\n",
       "Date                                                                         \n",
       "2021-01-07          0.033554          0.076448              Both stocks up   \n",
       "2021-01-08          0.008594          0.075481            Both stocks down   \n",
       "2021-01-11         -0.023523         -0.081442            Both stocks down   \n",
       "2021-01-12         -0.001396          0.046075              Both stocks up   \n",
       "2021-01-13          0.016096          0.005834  Stock #1 up, stock #2 down   \n",
       "...                      ...               ...                         ...   \n",
       "2022-05-16         -0.010730         -0.060556            Both stocks down   \n",
       "2022-05-17          0.025105          0.050132              Both stocks up   \n",
       "2022-05-18         -0.058073         -0.070437            Both stocks down   \n",
       "2022-05-19         -0.024950         -0.000550              Both stocks up   \n",
       "2022-05-20          0.001746         -0.066316  Stock #1 up, stock #2 down   \n",
       "\n",
       "           Categories_Letter  \n",
       "Date                          \n",
       "2021-01-07                uu  \n",
       "2021-01-08                dd  \n",
       "2021-01-11                dd  \n",
       "2021-01-12                uu  \n",
       "2021-01-13                ud  \n",
       "...                      ...  \n",
       "2022-05-16                dd  \n",
       "2022-05-17                uu  \n",
       "2022-05-18                dd  \n",
       "2022-05-19                uu  \n",
       "2022-05-20                ud  \n",
       "\n",
       "[346 rows x 4 columns]"
      ]
     },
     "execution_count": 11,
     "metadata": {},
     "output_type": "execute_result"
    }
   ],
   "source": [
    "# create a list of our conditions\n",
    "conditions = [\n",
    "    (Diff_Return['Apple_Log_Return']>0) & (Diff_Return['Tesla_Log_Return']>0),\n",
    "    (Diff_Return['Apple_Log_Return']>0) & (Diff_Return['Tesla_Log_Return']<0),\n",
    "    (Diff_Return['Apple_Log_Return']<0) & (Diff_Return['Tesla_Log_Return']>0),\n",
    "    (Diff_Return['Apple_Log_Return']<0) & (Diff_Return['Tesla_Log_Return']<0)\n",
    "    ]\n",
    "\n",
    "# create a list of the values we want to assign for each condition\n",
    "values = ['Both stocks up', 'Stock #1 up, stock #2 down', 'Stock #1 down, stock #2 up', 'Both stocks down']\n",
    "Short = ['uu','ud','du','dd']\n",
    "# create a new column and use np.select to assign values to it using our lists as arguments\n",
    "Log_Returns_Cat['Categories'] = np.select(conditions, values)\n",
    "Log_Returns_Cat['Categories_Letter'] = np.select(conditions, Short)\n",
    "# display updated DataFrame\n",
    "Log_Category=Log_Returns_Cat.iloc[2:]\n",
    "Log_Category"
   ]
  },
  {
   "cell_type": "markdown",
   "metadata": {},
   "source": [
    "# Let's build a transition matrix of portfolio direction that shows your portfolio in          four scenarios:\n"
   ]
  },
  {
   "cell_type": "markdown",
   "metadata": {},
   "source": [
    "i.  From moving together to moving together That means starting from uu or dd & going to uu or dd\n",
    "ii. From moving together to moving apart That means starting from uu or dd & going to ud or du\n",
    "iii. From moving apart to moving together That means starting from ud or du & going to uu or dd\n",
    "iv. From moving apart to moving apart That means starting from ud or du & going to ud or du  "
   ]
  },
  {
   "cell_type": "code",
   "execution_count": 13,
   "metadata": {},
   "outputs": [
    {
     "data": {
      "text/html": [
       "<div>\n",
       "<style scoped>\n",
       "    .dataframe tbody tr th:only-of-type {\n",
       "        vertical-align: middle;\n",
       "    }\n",
       "\n",
       "    .dataframe tbody tr th {\n",
       "        vertical-align: top;\n",
       "    }\n",
       "\n",
       "    .dataframe thead th {\n",
       "        text-align: right;\n",
       "    }\n",
       "</style>\n",
       "<table border=\"1\" class=\"dataframe\">\n",
       "  <thead>\n",
       "    <tr style=\"text-align: right;\">\n",
       "      <th></th>\n",
       "      <th>Apple_Log_Return</th>\n",
       "      <th>Tesla_Log_Return</th>\n",
       "      <th>Categories_Letter</th>\n",
       "    </tr>\n",
       "    <tr>\n",
       "      <th>Date</th>\n",
       "      <th></th>\n",
       "      <th></th>\n",
       "      <th></th>\n",
       "    </tr>\n",
       "  </thead>\n",
       "  <tbody>\n",
       "    <tr>\n",
       "      <th>2021-01-07</th>\n",
       "      <td>0.033554</td>\n",
       "      <td>0.076448</td>\n",
       "      <td>uu</td>\n",
       "    </tr>\n",
       "    <tr>\n",
       "      <th>2021-01-08</th>\n",
       "      <td>0.008594</td>\n",
       "      <td>0.075481</td>\n",
       "      <td>dd</td>\n",
       "    </tr>\n",
       "    <tr>\n",
       "      <th>2021-01-11</th>\n",
       "      <td>-0.023523</td>\n",
       "      <td>-0.081442</td>\n",
       "      <td>dd</td>\n",
       "    </tr>\n",
       "    <tr>\n",
       "      <th>2021-01-12</th>\n",
       "      <td>-0.001396</td>\n",
       "      <td>0.046075</td>\n",
       "      <td>uu</td>\n",
       "    </tr>\n",
       "    <tr>\n",
       "      <th>2021-01-13</th>\n",
       "      <td>0.016096</td>\n",
       "      <td>0.005834</td>\n",
       "      <td>ud</td>\n",
       "    </tr>\n",
       "  </tbody>\n",
       "</table>\n",
       "</div>"
      ],
      "text/plain": [
       "            Apple_Log_Return  Tesla_Log_Return Categories_Letter\n",
       "Date                                                            \n",
       "2021-01-07          0.033554          0.076448                uu\n",
       "2021-01-08          0.008594          0.075481                dd\n",
       "2021-01-11         -0.023523         -0.081442                dd\n",
       "2021-01-12         -0.001396          0.046075                uu\n",
       "2021-01-13          0.016096          0.005834                ud"
      ]
     },
     "execution_count": 13,
     "metadata": {},
     "output_type": "execute_result"
    }
   ],
   "source": [
    "Categories=Log_Returns_Cat[['Apple_Log_Return','Tesla_Log_Return','Categories_Letter']].iloc[2:]\n",
    "Categories.head()"
   ]
  },
  {
   "cell_type": "code",
   "execution_count": 15,
   "metadata": {
    "scrolled": true
   },
   "outputs": [
    {
     "data": {
      "text/html": [
       "<div>\n",
       "<style scoped>\n",
       "    .dataframe tbody tr th:only-of-type {\n",
       "        vertical-align: middle;\n",
       "    }\n",
       "\n",
       "    .dataframe tbody tr th {\n",
       "        vertical-align: top;\n",
       "    }\n",
       "\n",
       "    .dataframe thead th {\n",
       "        text-align: right;\n",
       "    }\n",
       "</style>\n",
       "<table border=\"1\" class=\"dataframe\">\n",
       "  <thead>\n",
       "    <tr style=\"text-align: right;\">\n",
       "      <th></th>\n",
       "      <th>Apple_Log_Return</th>\n",
       "      <th>Tesla_Log_Return</th>\n",
       "    </tr>\n",
       "    <tr>\n",
       "      <th>Categories_Letter</th>\n",
       "      <th></th>\n",
       "      <th></th>\n",
       "    </tr>\n",
       "  </thead>\n",
       "  <tbody>\n",
       "    <tr>\n",
       "      <th>dd</th>\n",
       "      <td>120</td>\n",
       "      <td>120</td>\n",
       "    </tr>\n",
       "    <tr>\n",
       "      <th>du</th>\n",
       "      <td>53</td>\n",
       "      <td>53</td>\n",
       "    </tr>\n",
       "    <tr>\n",
       "      <th>ud</th>\n",
       "      <td>53</td>\n",
       "      <td>53</td>\n",
       "    </tr>\n",
       "    <tr>\n",
       "      <th>uu</th>\n",
       "      <td>120</td>\n",
       "      <td>120</td>\n",
       "    </tr>\n",
       "  </tbody>\n",
       "</table>\n",
       "</div>"
      ],
      "text/plain": [
       "                   Apple_Log_Return  Tesla_Log_Return\n",
       "Categories_Letter                                    \n",
       "dd                              120               120\n",
       "du                               53                53\n",
       "ud                               53                53\n",
       "uu                              120               120"
      ]
     },
     "execution_count": 15,
     "metadata": {},
     "output_type": "execute_result"
    }
   ],
   "source": [
    "Categories.groupby(by=['Categories_Letter']).count()"
   ]
  },
  {
   "cell_type": "code",
   "execution_count": 16,
   "metadata": {},
   "outputs": [],
   "source": [
    "from itertools import islice\n",
    "\n",
    "def window(seq, n=2):\n",
    "    it = iter(seq)\n",
    "    result = tuple(islice(it, n))\n",
    "    if len(result) == n:\n",
    "        yield result\n",
    "    for elem in it:\n",
    "        result = result[1:] + (elem,)\n",
    "        yield result"
   ]
  },
  {
   "cell_type": "markdown",
   "metadata": {},
   "source": [
    "Let's create new dataframe and name the columns as state 1 and state 2 and by usuing our window() function( i created above)\n",
    "Let's put our pairs in new dataframe, after that let's get the probability of each state 1 changing to state 2"
   ]
  },
  {
   "cell_type": "code",
   "execution_count": 17,
   "metadata": {},
   "outputs": [],
   "source": [
    "pairs = pd.DataFrame(window(Categories['Categories_Letter']), columns=['state1', 'state2'])\n",
    "counts = pairs.groupby('state1')['state2'].value_counts()\n",
    "probs = (counts / counts.sum()).unstack()\n"
   ]
  },
  {
   "cell_type": "markdown",
   "metadata": {},
   "source": [
    "Let's get our probabality in a new dataframe all together"
   ]
  },
  {
   "cell_type": "code",
   "execution_count": 18,
   "metadata": {
    "scrolled": true
   },
   "outputs": [
    {
     "data": {
      "text/html": [
       "<div>\n",
       "<style scoped>\n",
       "    .dataframe tbody tr th:only-of-type {\n",
       "        vertical-align: middle;\n",
       "    }\n",
       "\n",
       "    .dataframe tbody tr th {\n",
       "        vertical-align: top;\n",
       "    }\n",
       "\n",
       "    .dataframe thead th {\n",
       "        text-align: right;\n",
       "    }\n",
       "</style>\n",
       "<table border=\"1\" class=\"dataframe\">\n",
       "  <thead>\n",
       "    <tr style=\"text-align: right;\">\n",
       "      <th>state2</th>\n",
       "      <th>dd</th>\n",
       "      <th>du</th>\n",
       "      <th>ud</th>\n",
       "      <th>du</th>\n",
       "    </tr>\n",
       "    <tr>\n",
       "      <th>state1</th>\n",
       "      <th></th>\n",
       "      <th></th>\n",
       "      <th></th>\n",
       "      <th></th>\n",
       "    </tr>\n",
       "  </thead>\n",
       "  <tbody>\n",
       "    <tr>\n",
       "      <th>dd</th>\n",
       "      <td>0.055072</td>\n",
       "      <td>0.043478</td>\n",
       "      <td>0.052174</td>\n",
       "      <td>0.043478</td>\n",
       "    </tr>\n",
       "    <tr>\n",
       "      <th>du</th>\n",
       "      <td>0.055072</td>\n",
       "      <td>0.011594</td>\n",
       "      <td>0.040580</td>\n",
       "      <td>0.011594</td>\n",
       "    </tr>\n",
       "    <tr>\n",
       "      <th>ud</th>\n",
       "      <td>0.028986</td>\n",
       "      <td>0.063768</td>\n",
       "      <td>0.011594</td>\n",
       "      <td>0.063768</td>\n",
       "    </tr>\n",
       "    <tr>\n",
       "      <th>du</th>\n",
       "      <td>0.055072</td>\n",
       "      <td>0.011594</td>\n",
       "      <td>0.040580</td>\n",
       "      <td>0.011594</td>\n",
       "    </tr>\n",
       "  </tbody>\n",
       "</table>\n",
       "</div>"
      ],
      "text/plain": [
       "state2        dd        du        ud        du\n",
       "state1                                        \n",
       "dd      0.055072  0.043478  0.052174  0.043478\n",
       "du      0.055072  0.011594  0.040580  0.011594\n",
       "ud      0.028986  0.063768  0.011594  0.063768\n",
       "du      0.055072  0.011594  0.040580  0.011594"
      ]
     },
     "execution_count": 18,
     "metadata": {},
     "output_type": "execute_result"
    }
   ],
   "source": [
    "df=pd.DataFrame(probs).loc[['dd','du','ud','du'], ['dd','du','ud','du'] ]\n",
    "df"
   ]
  },
  {
   "cell_type": "markdown",
   "metadata": {},
   "source": [
    "# Is the process Markovian?"
   ]
  },
  {
   "cell_type": "markdown",
   "metadata": {},
   "source": [
    "Yes, this is Markovian as it is memoryless and we can predict future outcome based solely on its present state, we do not need its full history."
   ]
  }
 ],
 "metadata": {
  "kernelspec": {
   "display_name": "Python 3 (ipykernel)",
   "language": "python",
   "name": "python3"
  },
  "language_info": {
   "codemirror_mode": {
    "name": "ipython",
    "version": 3
   },
   "file_extension": ".py",
   "mimetype": "text/x-python",
   "name": "python",
   "nbconvert_exporter": "python",
   "pygments_lexer": "ipython3",
   "version": "3.9.7"
  }
 },
 "nbformat": 4,
 "nbformat_minor": 4
}
